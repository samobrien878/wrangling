{
  "cells": [
    {
      "cell_type": "markdown",
      "id": "13ad028b-72b7-43ed-aa78-96fd4e518040",
      "metadata": {
        "id": "13ad028b-72b7-43ed-aa78-96fd4e518040"
      },
      "source": [
        "# Assignment: Data Wrangling\n",
        "## `! git clone https://github.com/DS3001/wrangling`\n",
        "## Do Q2, and one of Q1 or Q3."
      ]
    },
    {
      "cell_type": "markdown",
      "id": "5735a4d4-8be8-433a-a351-70eb8002e632",
      "metadata": {
        "id": "5735a4d4-8be8-433a-a351-70eb8002e632"
      },
      "source": [
        "**Q1.** Open the \"tidy_data.pdf\" document in the repo, which is a paper called Tidy Data by Hadley Wickham.\n",
        "\n",
        "  1. Read the abstract. What is this paper about?\n",
        "  2. Read the introduction. What is the \"tidy data standard\" intended to accomplish?\n",
        "  3. Read the intro to section 2. What does this sentence mean: \"Like families, tidy datasets are all alike but every messy dataset is messy in its own way.\" What does this sentence mean: \"For a given dataset, it’s usually easy to figure out what are observations and what are variables, but it is surprisingly difficult to precisely define variables and observations in general.\"\n",
        "  4. Read Section 2.2. How does Wickham define values, variables, and observations?\n",
        "  5. How is \"Tidy Data\" defined in section 2.3?\n",
        "  6. Read the intro to Section 3 and Section 3.1. What are the 5 most common problems with messy datasets? Why are the data in Table 4 messy? What is \"melting\" a dataset?\n",
        "  7. Why, specifically, is table 11 messy but table 12 tidy and \"molten\"?\n",
        "  8. Read Section 6. What is the \"chicken-and-egg\" problem with focusing on tidy data? What does Wickham hope happens in the future with further work on the subject of data wrangling?"
      ]
    },
    {
      "cell_type": "markdown",
      "source": [
        "1. The paper gives an overview on what tidy data is, how to do make untidy data tidy, and how it is useful for analysis.\n",
        "2. The tidy standard is intended to help those cleaning data to have a starting point to work towards. Rather than going in blind to what \"tidy\" data actual is, the standarize helps save time and give direction during the often tedious process of cleaning data.\n",
        "3.\n",
        "  a. The first sentence is emphasizing that even though data may be similar in layout (ie: has variables, has types of data), each set comes with a unique set of problems and characteristics.\n",
        "  b. The second sentence is emphasizing the importance of context with data. For instance, depenending on what you have collected and what the purpose of your data is, the definition of \"variable\" can easily change. The same goes for observations.\n",
        "4. Variables have all values that measure the same attribute. Observations are all of the values measured on the same unit. Values are some combination of quanitative or qualitative data.\n",
        "5. Tidy data is:\n",
        "  a: Each variable has a column\n",
        "  b: Each observation (unit) has a row\n",
        "  c: Each observational unit forms a table\n",
        "6. The 5 most common problems:\n",
        "  1. Column titles are values, not variables\n",
        "  2. 2 or more variables in one column\n",
        "  3. variables are in both rows and columns\n",
        "  4. multiple types of observational units are stored in the same table.\n",
        "  5. A single observational unit is stored in multiple tables.\n",
        "- The data in table four is messy because the column titles are values, not variables.\n",
        "- Melting data means to turn the columns into rows, many people call it casting data from wide to long.\n",
        "7. Table 11 is messy because there are multiple values in both the columns and the value slots, and many colvars need to be melted together. Table 12 is molten because even though it is mostly clean, the element column has 2 variables in it that need to be melted.\n",
        "8. The chicken and the egg problem is that tidyness of data is limited by the tools to make it tidy. Those tool in return are linked to tidy data, making it very dificult to improve on the process to prep messy data for analysis. Wickham hopes that people will create large concentrated efforts to improve on his tools, to create more consise and efficient methods to tidy data."
      ],
      "metadata": {
        "id": "gRpBXaSNgZ_W"
      },
      "id": "gRpBXaSNgZ_W"
    },
    {
      "cell_type": "markdown",
      "id": "da879ea7-8aac-48a3-b6c2-daea56d2e072",
      "metadata": {
        "id": "da879ea7-8aac-48a3-b6c2-daea56d2e072"
      },
      "source": [
        "**Q2.** This question provides some practice cleaning variables which have common problems.\n",
        "1. Numeric variable: For `./data/airbnb_hw.csv`, clean the `Price` variable as well as you can, and explain the choices you make. How many missing values do you end up with? (Hint: What happens to the formatting when a price goes over 999 dollars, say from 675 to 1,112?)\n",
        "2. Categorical variable: For the `./data/sharks.csv` data covered in the lecture, clean the \"Type\" variable as well as you can, and explain the choices you make.\n",
        "3. Dummy variable: For the pretrial data covered in the lecture, clean the `WhetherDefendantWasReleasedPretrial` variable as well as you can, and, in particular, replace missing values with `np.nan`.\n",
        "4. Missing values, not at random: For the pretrial data covered in the lecture, clean the `ImposedSentenceAllChargeInContactEvent` variable as well as you can, and explain the choices you make. (Hint: Look at the `SentenceTypeAllChargesAtConvictionInContactEvent` variable.)"
      ]
    },
    {
      "cell_type": "code",
      "source": [
        "import pandas as pd\n",
        "import numpy as np\n",
        "import matplotlib.pyplot as plt\n",
        "import seaborn as sns\n",
        "\n",
        "AirBNB = pd.read_csv('airbnb_hw.csv')\n",
        "justice = pd.read_parquet('justice_data.parquet')\n",
        "pretrial = pd.read_csv('pretrial_data.csv')\n",
        "sharks = pd.read_csv('sharks.csv')\n",
        "AirBNB.describe()"
      ],
      "metadata": {
        "id": "RRx1t1B1g6Zt"
      },
      "id": "RRx1t1B1g6Zt",
      "execution_count": null,
      "outputs": []
    },
    {
      "cell_type": "code",
      "source": [
        "AirBNB['Price'] = pd.to_numeric(AirBNB['Price'].str.replace(',',''))\n",
        "AirBNB.isnull().sum().sum()"
      ],
      "metadata": {
        "id": "-jRnF49Ig-wQ"
      },
      "id": "-jRnF49Ig-wQ",
      "execution_count": null,
      "outputs": []
    },
    {
      "cell_type": "code",
      "source": [
        "sharks['Type'].unique()\n",
        "remove_types = ['Unconfirmed', 'Unverified', 'Invalid', 'Under investigation','nan']\n",
        "sharks = sharks[~sharks['Type'].isin(remove_types)] # Create a new DataFrame by filtering out rows where the 'Type' column value exists in the remove_types list\n",
        "sharks"
      ],
      "metadata": {
        "id": "zPx6gJywhH3e"
      },
      "id": "zPx6gJywhH3e",
      "execution_count": null,
      "outputs": []
    },
    {
      "cell_type": "code",
      "source": [
        "release = justice['WhetherDefendantWasReleasedPretrial'].unique()\n",
        "release = pd.Series(release).replace(9,np.nan)\n",
        "justice['WhetherDefendantWasReleasedPretrial'] = release\n",
        "del release"
      ],
      "metadata": {
        "id": "HCzGqG_7hKF6"
      },
      "id": "HCzGqG_7hKF6",
      "execution_count": null,
      "outputs": []
    },
    {
      "cell_type": "code",
      "source": [
        "jail_time = justice['ImposedSentenceAllChargeInContactEvent']\n",
        "type = justice['SentenceTypeAllChargesAtConvictionInContactEvent']"
      ],
      "metadata": {
        "id": "BisckuDIhNfn"
      },
      "id": "BisckuDIhNfn",
      "execution_count": null,
      "outputs": []
    },
    {
      "cell_type": "code",
      "source": [
        "jail_time = pd.to_numeric(jail_time, errors='coerce')\n",
        "jail_time_NA = jail_time.isnull()"
      ],
      "metadata": {
        "id": "L9Pi1uSphN7A"
      },
      "id": "L9Pi1uSphN7A",
      "execution_count": null,
      "outputs": []
    },
    {
      "cell_type": "code",
      "source": [
        "jail_time = jail_time.mask(type == 4,0)\n",
        "jail_time = jail_time.mask(type == 9,np.nan)\n",
        "\n",
        "jail_time_NA = jail_time.isnull\n",
        "print(pd.crosstab(jail_time_NA,type),'\\n')\n",
        "print(np.sum(jail_time_NA),'\\n')"
      ],
      "metadata": {
        "id": "GCrfOsEzhPee"
      },
      "id": "GCrfOsEzhPee",
      "execution_count": null,
      "outputs": []
    },
    {
      "cell_type": "code",
      "source": [
        "justice['ImposedSentenceAllChargeInContactEvent'] = jail_time\n",
        "justice[['ImposedSentenceAllChargeInContactEvent', 'SentenceTypeAllChargesAtConvictionInContactEvent']]"
      ],
      "metadata": {
        "id": "w2UrmpQ8hRUW"
      },
      "id": "w2UrmpQ8hRUW",
      "execution_count": null,
      "outputs": []
    },
    {
      "cell_type": "markdown",
      "id": "649494cd-cfd6-4f80-992a-9994fc19e1d5",
      "metadata": {
        "id": "649494cd-cfd6-4f80-992a-9994fc19e1d5"
      },
      "source": [
        "**Q3.** Many important datasets contain a race variable, typically limited to a handful of values often including Black, White, Asian, Latino, and Indigenous. This question looks at data gathering efforts on this variable by the U.S. Federal government.\n",
        "\n",
        "1. How did the most recent US Census gather data on race?\n",
        "2. Why do we gather these data? What role do these kinds of data play in politics and society? Why does data quality matter?\n",
        "3. Please provide a constructive criticism of how the Census was conducted: What was done well? What do you think was missing? How should future large scale surveys be adjusted to best reflect the diversity of the population? Could some of the Census' good practices be adopted more widely to gather richer and more useful data?\n",
        "4. How did the Census gather data on sex and gender? Please provide a similar constructive criticism of their practices.\n",
        "5. When it comes to cleaning data, what concerns do you have about protected characteristics like sex, gender, sexual identity, or race? What challenges can you imagine arising when there are missing values? What good or bad practices might people adopt, and why?\n",
        "6. Suppose someone invented an algorithm to impute values for protected characteristics like race, gender, sex, or sexuality. What kinds of concerns would you have?"
      ]
    }
  ],
  "metadata": {
    "colab": {
      "provenance": []
    },
    "kernelspec": {
      "display_name": "Python 3 (ipykernel)",
      "language": "python",
      "name": "python3"
    },
    "language_info": {
      "codemirror_mode": {
        "name": "ipython",
        "version": 3
      },
      "file_extension": ".py",
      "mimetype": "text/x-python",
      "name": "python",
      "nbconvert_exporter": "python",
      "pygments_lexer": "ipython3",
      "version": "3.10.4"
    }
  },
  "nbformat": 4,
  "nbformat_minor": 5
}